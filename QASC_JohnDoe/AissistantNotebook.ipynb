{
  "nbformat": 4,
  "nbformat_minor": 5,
  "metadata": {
    "noteable-chatgpt": {
      "create_notebook": {
        "openai_conversation_id": "57b416c3-9d57-5748-ab8c-effb7065e061",
        "openai_ephemeral_user_id": "c08da9fb-8b51-5637-a089-252713887219",
        "openai_subdivision1_iso_code": "FI-09"
      }
    },
    "kernel_info": {
      "name": "python3"
    },
    "noteable": {
      "last_transaction_id": "50bf6cf7-fa54-46d7-86fa-a19c60b57164"
    },
    "kernelspec": {
      "display_name": "Python 3.9",
      "language": "python",
      "name": "python3"
    },
    "selected_hardware_size": "small"
  },
  "cells": [
    {
      "id": "8dff0938-13fd-4f6a-877b-04603dc2c0e6",
      "cell_type": "markdown",
      "source": "# 1. Aissistant\nInitialization of the Aissistant environment for creative and productive conversation vector database and personal profile management in ChatGPT using Noteable plugin and `aissistant` module.\nFor more details, visit the [Aissistant GitHub project](https://github.com/markomanninen/aissistant/).",
      "metadata": {
        "noteable": {
          "cell_type": "markdown"
        }
      }
    },
    {
      "id": "3229308a-b4e7-4e62-b14b-5b4d2c792e5d",
      "cell_type": "markdown",
      "source": "## 2.1 Install Required Libraries\nInstalling the necessary libraries for the Aissistant environment. These libraries include `faiss-cpu` for efficient similarity search and `sentence-transformers` for sentence embeddings.",
      "metadata": {
        "noteable": {
          "cell_type": "markdown"
        }
      }
    },
    {
      "id": "7ba68ea2-05b4-41e5-aa31-86a45274b84a",
      "cell_type": "code",
      "metadata": {
        "noteable": {
          "cell_type": "code",
          "output_collection_id": null
        },
        "ExecuteTime": {
          "end_time": "2023-08-03T14:48:42.426773+00:00",
          "start_time": "2023-08-03T14:46:06.440730+00:00"
        },
        "jupyter": {
          "outputs_hidden": false
        }
      },
      "execution_count": null,
      "source": "!pip install -q faiss-cpu\n!pip install -q sentence-transformers",
      "outputs": []
    },
    {
      "id": "ded77e15-5c2f-4437-8381-1fcab897bb22",
      "cell_type": "markdown",
      "source": "## 2.2 Download Module\nDownloading the `aissistant.py` module, which contains the core functionality for managing conversation vectors and personal profiles in the Aissistant environment.",
      "metadata": {
        "noteable": {
          "cell_type": "markdown"
        }
      }
    },
    {
      "id": "72977445-48b2-4b1c-b200-52d8fd4da8e4",
      "cell_type": "code",
      "metadata": {
        "noteable": {
          "cell_type": "code",
          "output_collection_id": null
        },
        "ExecuteTime": {
          "end_time": "2023-08-03T14:21:58.333694+00:00",
          "start_time": "2023-08-03T14:21:57.517078+00:00"
        },
        "jupyter": {
          "outputs_hidden": true
        }
      },
      "execution_count": null,
      "source": "!wget https://raw.githubusercontent.com/markomanninen/aissistant/main/aissistant.py",
      "outputs": []
    },
    {
      "id": "1dbf04c7-2e43-4bde-a523-b23d72132c8a",
      "cell_type": "markdown",
      "source": "## 2.3 Upload or Create Database and Vector Index Files\nThe system will create empty `conversation.db` and `faiss_index.idx` files automatically when the Aissistant module is imported and used in the next steps.\n## 2.4 Import Module Functions\nImporting the necessary functions from the Aissistant module to search and index conversations, and manage personal profiles.",
      "metadata": {
        "noteable": {
          "cell_type": "markdown"
        }
      }
    },
    {
      "id": "f25cf730-be09-4119-a0fb-994cdf6e41d2",
      "cell_type": "code",
      "metadata": {
        "noteable": {
          "cell_type": "code",
          "output_collection_id": null
        },
        "ExecuteTime": {
          "end_time": "2023-08-03T14:50:11.426845+00:00",
          "start_time": "2023-08-03T14:50:05.814399+00:00"
        },
        "jupyter": {
          "outputs_hidden": true
        }
      },
      "execution_count": null,
      "source": "from aissistant import search, index, get_profile, set_profile",
      "outputs": []
    },
    {
      "id": "24b09c8d-806f-47ec-8fb0-6fe11394eafd",
      "cell_type": "markdown",
      "source": "## 3. Instructions\n### Conversation Vector Database, Personal Profile, and Other Functions\nThe following functions can be used in two different ways:\na) in the chat, by giving natural language triggers\nb) at Noteable notebook cell in a programmable way.\n### 3.1 Conversation Functions\n- **Search Conversations**: Use `search(query, n=1, start_date=None, end_date=None, all_fields=False)` to find similar conversations from the FAISS index and SQLite database.\n- **Index Conversation**: Use `index(prompt_input_text, response_text)` to add conversations to the FAISS index and SQLite database.\n### 3.2 Profile Functions\n- **Get Profile**: Use `get_profile(field_name=None)` to retrieve profile information from the database.\n- **Set Profile**: Use `set_profile(field_name, value)` to update profile to the database.\n### 3.3 Additional Functions\n- **Retrieve Cursor**: Use `retrieve_cursor()` to access the database directly, for example getting the count of the rows, etc.",
      "metadata": {
        "noteable": {
          "cell_type": "markdown"
        }
      }
    },
    {
      "id": "7b2d61f1-705d-48a2-aad5-8dd74c111dd7",
      "cell_type": "markdown",
      "source": "## Demonstration Profile for John Doe\nRetrieving a comprehensive demonstration profile for John Doe. This profile includes various fields such as name, contact information, employment, education, interests, goals, preferences, and more.",
      "metadata": {
        "noteable": {
          "cell_type": "markdown"
        }
      }
    },
    {
      "id": "1b152ea3-536f-4113-962b-235db8d02475",
      "cell_type": "code",
      "metadata": {
        "jupyter": {
          "outputs_hidden": false,
          "source_hidden": false
        },
        "noteable": {
          "cell_type": "code",
          "output_collection_id": null
        },
        "ExecuteTime": {
          "end_time": "2023-08-03T14:50:21.409174+00:00",
          "start_time": "2023-08-03T14:50:21.249300+00:00"
        }
      },
      "execution_count": null,
      "source": "get_profile()",
      "outputs": []
    },
    {
      "id": "60d6ef1c-c68e-4025-9fba-7e35343bbf22",
      "cell_type": "markdown",
      "source": "## Querying the Indexed Data\nInto the pre-indexed QASC dataset, we can perform queries to search for specific information within the indexed data. In this section, we will:\n1. **Count the Total Rows**: Determine the total number of rows in the indexed data.\n2. **Search for a Specific Term**: Search for the term \"weather\" and retrieve three results related to it.",
      "metadata": {
        "noteable": {
          "cell_type": "markdown"
        }
      }
    },
    {
      "id": "5a8bd03b-11d4-4a8d-ae3d-eeee52be879d",
      "cell_type": "code",
      "metadata": {
        "noteable": {
          "cell_type": "code",
          "output_collection_id": null
        },
        "ExecuteTime": {
          "end_time": "2023-08-03T14:55:43.169975+00:00",
          "start_time": "2023-08-03T14:55:42.915172+00:00"
        }
      },
      "execution_count": null,
      "source": "from aissistant import retrieve_cursor\n\n# Get the cursor to the database\ncursor = retrieve_cursor()\n\n# Execute a query to count the total number of rows in the indexed data\ntotal_rows_query = 'SELECT COUNT(*) FROM conversation_indexed'\ntotal_rows = cursor.execute(total_rows_query).fetchone()[0]\ntotal_rows",
      "outputs": []
    },
    {
      "id": "23c6b079-6cac-4196-8448-6619e25586c8",
      "cell_type": "code",
      "metadata": {
        "jupyter": {
          "outputs_hidden": false,
          "source_hidden": false
        },
        "noteable": {
          "cell_type": "code",
          "output_collection_id": null
        },
        "ExecuteTime": {
          "end_time": "2023-08-03T14:58:36.968916+00:00",
          "start_time": "2023-08-03T14:58:36.714738+00:00"
        }
      },
      "execution_count": null,
      "source": "# Search for the term 'weather' and retrieve three results\nweather_results = search('weather', n=3)\n\n# Print the results\n[result[:2] for result in weather_results]",
      "outputs": []
    }
  ]
}