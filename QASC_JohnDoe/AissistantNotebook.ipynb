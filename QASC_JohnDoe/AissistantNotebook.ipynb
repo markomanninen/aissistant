{
  "nbformat": 4,
  "nbformat_minor": 5,
  "metadata": {
    "noteable-chatgpt": {
      "create_notebook": {
        "openai_conversation_id": "57b416c3-9d57-5748-ab8c-effb7065e061",
        "openai_ephemeral_user_id": "c08da9fb-8b51-5637-a089-252713887219",
        "openai_subdivision1_iso_code": "FI-09"
      }
    },
    "kernel_info": {
      "name": "python3"
    },
    "noteable": {
      "last_transaction_id": "e37c8fe6-d7dc-4ba9-939f-75c517664b9e"
    },
    "kernelspec": {
      "display_name": "Python 3.9",
      "language": "python",
      "name": "python3"
    },
    "selected_hardware_size": "small"
  },
  "cells": [
    {
      "id": "8dff0938-13fd-4f6a-877b-04603dc2c0e6",
      "cell_type": "markdown",
      "source": "# 1. Aissistant\nInitialization of the Aissistant environment for creative and productive conversation vector database and personal profile management in ChatGPT using Noteable plugin and `aissistant` module.\nFor more details, visit the [Aissistant GitHub project](https://github.com/markomanninen/aissistant/).\n\n# 1. Aissistant\nInitialization for the Aissistant project in ChatGPT using Noteable plugin and the `aissistant` module written by Marko T. Manninen. This project enables creative and productive interactions, allowing you to store data, explore past conversations, and manage profile information for an enhanced chat and coding experience.\nGitHub Project Reference: [https://github.com/markomanninen/aissistant/](https://github.com/markomanninen/aissistant/)\n\nCopyright © 08/2023.",
      "metadata": {
        "noteable": {
          "cell_type": "markdown"
        }
      }
    },
    {
      "id": "3229308a-b4e7-4e62-b14b-5b4d2c792e5d",
      "cell_type": "markdown",
      "source": "## 2.1 Install Required Libraries\nInstalling the necessary libraries for the Aissistant environment. These libraries include `faiss-cpu` for efficient similarity search and `sentence-transformers` for sentence embeddings.",
      "metadata": {
        "noteable": {
          "cell_type": "markdown"
        }
      }
    },
    {
      "id": "7ba68ea2-05b4-41e5-aa31-86a45274b84a",
      "cell_type": "code",
      "metadata": {
        "noteable": {
          "cell_type": "code",
          "output_collection_id": null
        },
        "ExecuteTime": {
          "end_time": "2023-08-03T14:48:42.426773+00:00",
          "start_time": "2023-08-03T14:46:06.440730+00:00"
        },
        "jupyter": {
          "outputs_hidden": false
        }
      },
      "execution_count": null,
      "source": "!pip install -q faiss-cpu\n!pip install -q sentence-transformers",
      "outputs": []
    },
    {
      "id": "ded77e15-5c2f-4437-8381-1fcab897bb22",
      "cell_type": "markdown",
      "source": "## 2.2 Download Module\nDownloading the `aissistant.py` module, which contains the core functionality for managing conversation vectors and personal profiles in the Aissistant environment.",
      "metadata": {
        "noteable": {
          "cell_type": "markdown"
        }
      }
    },
    {
      "id": "72977445-48b2-4b1c-b200-52d8fd4da8e4",
      "cell_type": "code",
      "metadata": {
        "noteable": {
          "cell_type": "code",
          "output_collection_id": null
        },
        "ExecuteTime": {
          "end_time": "2023-08-03T14:21:58.333694+00:00",
          "start_time": "2023-08-03T14:21:57.517078+00:00"
        },
        "jupyter": {
          "outputs_hidden": true
        }
      },
      "execution_count": null,
      "source": "!wget https://raw.githubusercontent.com/markomanninen/aissistant/main/aissistant.py",
      "outputs": []
    },
    {
      "id": "1dbf04c7-2e43-4bde-a523-b23d72132c8a",
      "cell_type": "markdown",
      "source": "## 2.3 Upload or Create Database and Vector Index Files\nThe system will create empty `conversation.db` and `faiss_index.idx` files automatically when the Aissistant module is imported and used in the next steps.\n## 2.4 Import Module Functions\nImporting the necessary functions from the Aissistant module to search and index conversations, and manage personal profiles.",
      "metadata": {
        "noteable": {
          "cell_type": "markdown"
        }
      }
    },
    {
      "id": "f25cf730-be09-4119-a0fb-994cdf6e41d2",
      "cell_type": "code",
      "metadata": {
        "noteable": {
          "cell_type": "code",
          "output_collection_id": null
        },
        "ExecuteTime": {
          "end_time": "2023-08-03T14:50:11.426845+00:00",
          "start_time": "2023-08-03T14:50:05.814399+00:00"
        },
        "jupyter": {
          "outputs_hidden": true
        }
      },
      "execution_count": null,
      "source": "from aissistant import search, index, get_profile, set_profile",
      "outputs": []
    },
    {
      "id": "24b09c8d-806f-47ec-8fb0-6fe11394eafd",
      "cell_type": "markdown",
      "source": "## 3. Instructions\n### Conversation Vector Database, Personal Profile, and Other Functions\nThe following functions can be used in two different ways:\na) in the chat, by giving natural language triggers\nb) at Noteable notebook cell in a programmable way.\n### 3.1 Conversation Functions\n- **Search Conversations**: Use `search(query, n=1, start_date=None, end_date=None, all_fields=False)` to find similar conversations from the FAISS index and SQLite database.\n- **Index Conversation**: Use `index(prompt_input_text, response_text)` to add conversations to the FAISS index and SQLite database.\n### 3.2 Profile Functions\n- **Get Profile**: Use `get_profile(field_name=None)` to retrieve profile information from the database.\n- **Set Profile**: Use `set_profile(field_name, value)` to update profile to the database.\n### 3.3 Additional Functions\n- **Retrieve Cursor**: Use `retrieve_cursor()` to access the database directly, for example getting the count of the rows, etc.",
      "metadata": {
        "noteable": {
          "cell_type": "markdown"
        }
      }
    },
    {
      "id": "ea17c315-8884-4352-9cba-43900a0a1029",
      "cell_type": "markdown",
      "source": "## 4. Usage Examples and Tips\n\n### Usage Examples\n\n#### 1. Index Conversation\nAdd a new conversation to the database using the `index` function:\n```python\nindex(\"What's the weather like?\", \"It's sunny and warm.\")\n```\n\n#### 2. Search Conversations\nFind similar past conversations using the `search` function:\n```python\nresults = search(\"What's the weather like?\")\nfor result in results:\n    print(result[0], result[1]) # Prompt and response\n```\n\n#### 3. Set Profile Information\nUpdate profile information using the `set_profile` function:\n```python\nset_profile(\"email\", \"user@example.com\")\n```\n\n#### 4. Get Profile Information\nRetrieve specific profile information using the `get_profile` function:\n```python\nemail = get_profile(\"email\")\nprint(email)\n```\n\n### Tips and Best Practices\n\n1. **Consistent Indexing**: When indexing conversations, ensure that the prompts and responses are consistent with the context and intent. This will improve the accuracy of search results.\n2. **Profile Management**: Use the profile functions to personalize interactions. Store relevant information such as preferences, interests, and goals to tailor responses.\n3. **Database Management**: Regularly back up the `conversation.db` and `faiss_index.idx` files to prevent data loss. You can download these files from Noteable and use them in other sessions.\n4. **Explore the Module**: Read the `aissistant.py` file to understand the underlying code and functionalities. You can customize and extend the module to suit your specific needs.\n5. **Combine with Noteable**: Utilize the power of Noteable notebooks to perform data analysis, visualization, and other advanced operations on the conversation data.\n\nThese examples and tips provide a starting point for exploring the capabilities of the Aissistant project. Feel free to experiment, customize, and innovate to create unique and engaging experiences.",
      "metadata": {
        "noteable": {
          "cell_type": "markdown"
        }
      }
    },
    {
      "id": "7b2d61f1-705d-48a2-aad5-8dd74c111dd7",
      "cell_type": "markdown",
      "source": "## Demonstration Profile for John Doe\nRetrieving a comprehensive demonstration profile for John Doe. This profile includes various fields such as name, contact information, employment, education, interests, goals, preferences, and more.",
      "metadata": {
        "noteable": {
          "cell_type": "markdown"
        }
      }
    },
    {
      "id": "1b152ea3-536f-4113-962b-235db8d02475",
      "cell_type": "code",
      "metadata": {
        "jupyter": {
          "outputs_hidden": false,
          "source_hidden": false
        },
        "noteable": {
          "cell_type": "code",
          "output_collection_id": null
        },
        "ExecuteTime": {
          "end_time": "2023-08-03T14:50:21.409174+00:00",
          "start_time": "2023-08-03T14:50:21.249300+00:00"
        }
      },
      "execution_count": null,
      "source": "get_profile()",
      "outputs": []
    },
    {
      "id": "60d6ef1c-c68e-4025-9fba-7e35343bbf22",
      "cell_type": "markdown",
      "source": "## Querying the Indexed Data\nInto the pre-indexed QASC dataset, we can perform queries to search for specific information within the indexed data. In this section, we will:\n1. **Count the Total Rows**: Determine the total number of rows in the indexed data.\n2. **Search for a Specific Term**: Search for the term \"weather\" and retrieve three results related to it.",
      "metadata": {
        "noteable": {
          "cell_type": "markdown"
        }
      }
    },
    {
      "id": "5a8bd03b-11d4-4a8d-ae3d-eeee52be879d",
      "cell_type": "code",
      "metadata": {
        "noteable": {
          "cell_type": "code",
          "output_collection_id": null
        },
        "ExecuteTime": {
          "end_time": "2023-08-03T14:55:43.169975+00:00",
          "start_time": "2023-08-03T14:55:42.915172+00:00"
        }
      },
      "execution_count": null,
      "source": "from aissistant import retrieve_cursor\n\n# Get the cursor to the database\ncursor = retrieve_cursor()\n\n# Execute a query to count the total number of rows in the indexed data\ntotal_rows_query = 'SELECT COUNT(*) FROM conversation_indexed'\ntotal_rows = cursor.execute(total_rows_query).fetchone()[0]\ntotal_rows",
      "outputs": []
    },
    {
      "id": "23c6b079-6cac-4196-8448-6619e25586c8",
      "cell_type": "code",
      "metadata": {
        "jupyter": {
          "outputs_hidden": false,
          "source_hidden": false
        },
        "noteable": {
          "cell_type": "code",
          "output_collection_id": null
        },
        "ExecuteTime": {
          "end_time": "2023-08-03T14:58:36.968916+00:00",
          "start_time": "2023-08-03T14:58:36.714738+00:00"
        }
      },
      "execution_count": null,
      "source": "# Search for the term 'weather' and retrieve three results\nweather_results = search('weather', n=3)\n\n# Print the results\n[result[:2] for result in weather_results]",
      "outputs": []
    }
  ]
}